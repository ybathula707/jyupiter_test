{
 "cells": [
  {
   "cell_type": "code",
   "execution_count": 9,
   "id": "e330f21a-61cb-49f6-a717-fe8783435cca",
   "metadata": {},
   "outputs": [
    {
     "name": "stdout",
     "output_type": "stream",
     "text": [
      "hello, Aisu\n"
     ]
    }
   ],
   "source": [
    "def printGreeting( name) -> str :\n",
    "    greeting = \"hello, \" + name\n",
    "    return greeting\n",
    "print(printGreeting(\"Aisu\"))"
   ]
  },
  {
   "cell_type": "code",
   "execution_count": 10,
   "id": "d8300fcf-139e-4019-890d-da669c188904",
   "metadata": {},
   "outputs": [
    {
     "name": "stdout",
     "output_type": "stream",
     "text": [
      "hello, Yashaswi\n"
     ]
    }
   ],
   "source": [
    "print(printGreeting(\"Yashaswi\"))"
   ]
  },
  {
   "cell_type": "code",
   "execution_count": null,
   "id": "c77734f1-fd48-4987-9f01-7212f394206b",
   "metadata": {},
   "outputs": [],
   "source": []
  },
  {
   "cell_type": "code",
   "execution_count": 11,
   "id": "84b97458-33a1-4072-a40b-57a6558886ae",
   "metadata": {},
   "outputs": [
    {
     "name": "stdout",
     "output_type": "stream",
     "text": [
      "hello, Yoshi\n"
     ]
    }
   ],
   "source": [
    "print(printGreeting(\"Yoshi\"))"
   ]
  },
  {
   "cell_type": "code",
   "execution_count": null,
   "id": "75769c17-fb14-498e-86a8-1e0e33245c57",
   "metadata": {},
   "outputs": [],
   "source": []
  }
 ],
 "metadata": {
  "kernelspec": {
   "display_name": "Python 3 (ipykernel)",
   "language": "python",
   "name": "python3"
  },
  "language_info": {
   "codemirror_mode": {
    "name": "ipython",
    "version": 3
   },
   "file_extension": ".py",
   "mimetype": "text/x-python",
   "name": "python",
   "nbconvert_exporter": "python",
   "pygments_lexer": "ipython3",
   "version": "3.9.6"
  }
 },
 "nbformat": 4,
 "nbformat_minor": 5
}
